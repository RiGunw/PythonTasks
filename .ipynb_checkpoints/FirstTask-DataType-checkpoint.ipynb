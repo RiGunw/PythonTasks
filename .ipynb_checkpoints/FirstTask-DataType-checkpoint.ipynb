{
 "cells": [
  {
   "cell_type": "code",
   "execution_count": 29,
   "id": "aaa06154-da60-4596-99f9-60c80509773f",
   "metadata": {},
   "outputs": [],
   "source": [
    "number : int = 12"
   ]
  },
  {
   "cell_type": "code",
   "execution_count": 5,
   "id": "58eb1898-e4a0-4535-8efb-6f7193ac6209",
   "metadata": {},
   "outputs": [],
   "source": [
    "number_2 : float = 30.5"
   ]
  },
  {
   "cell_type": "code",
   "execution_count": 7,
   "id": "18b9b934-594d-45f0-8983-973b8a9814ba",
   "metadata": {},
   "outputs": [],
   "source": [
    "boolean_var = True"
   ]
  },
  {
   "cell_type": "code",
   "execution_count": 37,
   "id": "f817bab9-7e1b-41ca-9af7-f54195d55729",
   "metadata": {},
   "outputs": [],
   "source": [
    "string_var = \"My String\""
   ]
  },
  {
   "cell_type": "code",
   "execution_count": 39,
   "id": "947fae01-a851-4870-88c2-9d0894042110",
   "metadata": {},
   "outputs": [
    {
     "name": "stdout",
     "output_type": "stream",
     "text": [
      "42.5\n",
      "13\n"
     ]
    }
   ],
   "source": [
    "if __name__ == '__main__':\n",
    "    print(number + number_2)\n",
    "    print(number + boolean_var)\n",
    "    # print(number + string_var) < This won't work of course"
   ]
  }
 ],
 "metadata": {
  "kernelspec": {
   "display_name": "Python 3 (ipykernel)",
   "language": "python",
   "name": "python3"
  },
  "language_info": {
   "codemirror_mode": {
    "name": "ipython",
    "version": 3
   },
   "file_extension": ".py",
   "mimetype": "text/x-python",
   "name": "python",
   "nbconvert_exporter": "python",
   "pygments_lexer": "ipython3",
   "version": "3.11.7"
  }
 },
 "nbformat": 4,
 "nbformat_minor": 5
}
