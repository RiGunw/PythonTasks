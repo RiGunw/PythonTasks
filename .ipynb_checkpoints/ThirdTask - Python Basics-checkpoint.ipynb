{
 "cells": [
  {
   "cell_type": "code",
   "execution_count": 100,
   "id": "14237a0d-7bb5-4b4a-9fe0-4d470e9b3eb0",
   "metadata": {},
   "outputs": [
    {
     "name": "stdout",
     "output_type": "stream",
     "text": [
      "33.0\n"
     ]
    }
   ],
   "source": [
    "# Soal 1: Manipulasi List dan Fungsi\n",
    "# Buatlah sebuah fungsi find_average(numbers) yang menerima sebuah list bilangan dan mengembalikan nilai rata-rata dari bilangan-bilangan tersebut.\n",
    "# Buat list angka acak sebagai input dan panggil fungsi find_average untuk menghitung rata-ratanya.\n",
    "\n",
    "numbers = [15, 20, 35, 40, 55] #line ini saya bikin list nya berisi number int asal isi\n",
    "find_average = sum(numbers) / len(numbers) #setelah itu sum (total) dibagi len (length, banyaknya int pada list yaitu 5)\n",
    "print(find_average) #lalu panggil fungsi find_average"
   ]
  },
  {
   "cell_type": "code",
   "execution_count": 192,
   "id": "2d7946ca-bdd9-46d0-a6cb-ac6aef4c6144",
   "metadata": {},
   "outputs": [
    {
     "name": "stdout",
     "output_type": "stream",
     "text": [
      "['Ini', 'Budi', 'seorang', 'pengembala', 'domba']\n",
      "domba pengembala seorang Budi Ini\n"
     ]
    }
   ],
   "source": [
    "# Soal 2: Pemahaman String dan Fungsi\n",
    "# Buatlah sebuah fungsi reverse_words(sentence) yang menerima sebuah kalimat dan mengembalikan kalimat tersebut dengan urutan kata-kata dibalik.\n",
    "# Berikan sebuah kalimat sebagai input dan panggil fungsi reverse_words untuk membalik urutan kata-kata dalam kalimat tersebut.\n",
    "\n",
    "#pertama saya bikin list nya isinya string semua sesuai konteks soal, di print utk demonstrasi saja\n",
    "word_list = ['Ini', 'Budi', 'seorang', 'pengembala', 'domba']\n",
    "print(word_list)\n",
    "\n",
    "#lalu saya gabung list yg isinya string semua tersebut menjadi satu kalimat tanpa terpisah format list seperti [] , '' menjadi function sentence\n",
    "#penggabungan menjadi satu kalimat menggunakan join, lalu [::-1] adalah untuk me-reverse urutan kata-kata string tersebut.\n",
    "sentence = ' '.join(word_list[::-1])\n",
    "print(sentence)"
   ]
  },
  {
   "cell_type": "code",
   "execution_count": 110,
   "id": "e2bde808-6c04-4e07-bbfd-708088d9d1d3",
   "metadata": {},
   "outputs": [
    {
     "name": "stdout",
     "output_type": "stream",
     "text": [
      "77.0\n",
      "298.15\n",
      "25.0\n",
      "298.15\n",
      "25.0\n",
      "77.0\n",
      "0\n"
     ]
    }
   ],
   "source": [
    "# Soal 3: Pemahaman Data Casting dan Fungsi\n",
    "# Buatlah sebuah fungsi convert_temperature(degrees, from_unit, to_unit) yang mengonversi suhu dari unit yang diberikan (from_unit) \n",
    "# ke unit lainnya (to_unit). Parameter degrees adalah nilai suhu, dan from_unit serta to_unit dapat berupa \"C\" untuk Celsius, \"F\" untuk Fahrenheit, \n",
    "# atau \"K\" untuk Kelvin. Uji fungsi convert_temperature dengan nilai suhu dan unit yang berbeda untuk melihat konversinya.\n",
    "\n",
    "def convert_temperature(degrees, from_unit, to_unit):\n",
    "    if from_unit == \"C\" and to_unit == \"F\":\n",
    "        converted_temp = (degrees * 9/5) + 32\n",
    "    elif from_unit == \"C\" and to_unit == \"K\":\n",
    "        converted_temp = degrees + 273.15\n",
    "    elif from_unit == \"F\" and to_unit == \"C\":\n",
    "        converted_temp = (degrees - 32) * 5/9\n",
    "    elif from_unit == \"F\" and to_unit == \"K\":\n",
    "        converted_temp = (degrees - 32) * 5/9 + 273.15\n",
    "    elif from_unit == \"K\" and to_unit == \"C\":\n",
    "        converted_temp = degrees - 273.15\n",
    "    elif from_unit == \"K\" and to_unit == \"F\":\n",
    "        converted_temp = (degrees - 273.15) * 9/5 + 32\n",
    "    else:\n",
    "        converted_temp = degrees  # Karena kalau unit suhu sudah sama tidak usah dikonversi\n",
    "    \n",
    "    return converted_temp\n",
    "\n",
    "# Test the function\n",
    "print((convert_temperature(25, \"C\", \"F\")))  # Output: 77.0\n",
    "print(convert_temperature(25, \"C\", \"K\"))  # Output: 298.15\n",
    "print(convert_temperature(77, \"F\", \"C\"))  # Output: 25.0\n",
    "print(convert_temperature(77, \"F\", \"K\"))  # Output: 298.15\n",
    "print(convert_temperature(298.15, \"K\", \"C\"))  # Output: 25.0\n",
    "print(convert_temperature(298.15, \"K\", \"F\"))  # Output: 77.0\n",
    "print(convert_temperature(0, \"C\", \"C\"))  # Output: 0"
   ]
  },
  {
   "cell_type": "code",
   "execution_count": 212,
   "id": "a75db856-84b4-4e3d-8c28-3676ca61c4c5",
   "metadata": {},
   "outputs": [
    {
     "name": "stdout",
     "output_type": "stream",
     "text": [
      "['I', 'n', 'i', ' ', 'a', 'd', 'a', 'l', 'a', 'h', ' ', 's', 'e', 'b', 'u', 'a', 'h', ' ', 'k', 'a', 'l', 'i', 'm', 'a', 't', ' ', 'p', 'a', 'n', 'j', 'a', 'n', 'g', ' ', 'y', 'a', 'n', 'g', ' ', 'h', 'a', 'r', 'u', 's', ' ', 'd', 'i', 'p', 'i', 's', 'a', 'h', ' ', 'h', 'u', 'r', 'u', 'f', 'n', 'y', 'a', '.']\n",
      "-------------------------------------------------------------------------------------------------------\n",
      "I: 1\n",
      "n: 5\n",
      "i: 4\n",
      " : 8\n",
      "a: 12\n",
      "d: 2\n",
      "l: 2\n",
      "h: 5\n",
      "s: 3\n",
      "e: 1\n",
      "b: 1\n",
      "u: 4\n",
      "k: 1\n",
      "m: 1\n",
      "t: 1\n",
      "p: 2\n",
      "j: 1\n",
      "g: 2\n",
      "y: 2\n",
      "r: 2\n",
      "f: 1\n",
      ".: 1\n"
     ]
    }
   ],
   "source": [
    "# Soal 4: Manipulasi Dictionary dan Fungsi\n",
    "# Buatlah sebuah fungsi count_characters(string) yang menghitung jumlah kemunculan setiap karakter dalam sebuah string dan mengembalikan hasilnya \n",
    "# dalam bentuk dictionary.\n",
    "# Berikan sebuah string sebagai input dan panggil fungsi count_characters untuk menghitung jumlah kemunculan setiap karakter dalam string tersebut.\n",
    "\n",
    "#Pertama kita buat dulu kalimat string\n",
    "WordString = \"Ini adalah sebuah kalimat panjang yang harus dipisah hurufnya.\"\n",
    "\n",
    "#Kemudian kita split kalimat tersebut per huruf dan dijadikan List\n",
    "letters_list = list(WordString)\n",
    "\n",
    "print(letters_list) #Kita coba print untuk demonstrasi\n",
    "\n",
    "print(\"-------------------------------------------------------------------------------------------------------\") #ini hanya pembatas\n",
    "\n",
    "#Kita buat dictionary kosong\n",
    "string_count_dict = {}\n",
    "\n",
    "#Di sini kita hitung jumlah per huruf string menggunakan for looping, jadi dicek satu-satu dari huruf pertama paling kiri sampai akhir, setiap huruf\n",
    "#kemudian di +1 di counter mereka, lalu huruf-huruf string yang sudah ada angka counternya akan dimasukkan ke dictionary.\n",
    "for string in letters_list:\n",
    "    if string in string_count_dict:\n",
    "        string_count_dict[string] += 1 #kalau huruf sudah ada sebelumnya akan +1\n",
    "    else:\n",
    "        string_count_dict[string] = 1 #kalau huruf tercatat baru (Capital sensitive) akan dihitung baru yaitu 1\n",
    "\n",
    "#Kita presentasikan hasilnya dalam bentuk barisan agar rapi dan presentable\n",
    "for string, count in string_count_dict.items():\n",
    "    print(f\"{string}: {count}\") #f itu utk membuat baris baru"
   ]
  },
  {
   "cell_type": "code",
   "execution_count": 216,
   "id": "ae1b6ae8-f652-4d83-b713-d486e24284c5",
   "metadata": {},
   "outputs": [
    {
     "name": "stdout",
     "output_type": "stream",
     "text": [
      "[4, 16, 36, 64, 100]\n",
      "[4, 16, 36, 64, 100, 144, 196, 256, 324, 400, 484, 576]\n"
     ]
    }
   ],
   "source": [
    "# Soal 5: Pemahaman List Comprehension dan Fungsi\n",
    "# Buatlah sebuah fungsi even_square_numbers(n) yang menggunakan list comprehension untuk menghasilkan list bilangan kuadrat dari bilangan genap antara \n",
    "# 1 hingga n.\n",
    "# Panggil fungsi even_square_numbers dengan nilai n tertentu untuk menghasilkan list bilangan kuadrat dari bilangan genap sampai nilai n. \n",
    "\n",
    "def even_square_numbers(n): # Pertama kita define dulu fungsinya, (n) di sini nantinya user input\n",
    "    return [x**2 for x in range(2, n+1, 2)] #ini formulanya; **2 itu pangkat dua\n",
    "\n",
    "#Kita test resultnya\n",
    "result = even_square_numbers(10) #di sini n = 10\n",
    "print(result)\n",
    "\n",
    "#Test kedua\n",
    "result = even_square_numbers(24) #di sini n = 24\n",
    "print(result)"
   ]
  }
 ],
 "metadata": {
  "kernelspec": {
   "display_name": "Python 3 (ipykernel)",
   "language": "python",
   "name": "python3"
  },
  "language_info": {
   "codemirror_mode": {
    "name": "ipython",
    "version": 3
   },
   "file_extension": ".py",
   "mimetype": "text/x-python",
   "name": "python",
   "nbconvert_exporter": "python",
   "pygments_lexer": "ipython3",
   "version": "3.11.7"
  }
 },
 "nbformat": 4,
 "nbformat_minor": 5
}
