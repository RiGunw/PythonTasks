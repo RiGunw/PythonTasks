{
 "cells": [
  {
   "cell_type": "markdown",
   "id": "05a37444-ce5e-4c08-b9fe-fc43c3c75625",
   "metadata": {},
   "source": [
    "# Import Preparations"
   ]
  },
  {
   "cell_type": "code",
   "execution_count": 51,
   "id": "6e64ece9-07c2-433a-97e2-c65f3b052702",
   "metadata": {},
   "outputs": [],
   "source": [
    "import numpy as np"
   ]
  },
  {
   "cell_type": "markdown",
   "id": "96ca6d70-3af3-4706-94a9-51187ccbeeb4",
   "metadata": {},
   "source": [
    "## 1. Buatlah array NumPy 1D dengan 5 elemen bilangan bulat acak antara 1 hingga 10.\t\t"
   ]
  },
  {
   "cell_type": "code",
   "execution_count": 67,
   "id": "5af509db-db8d-4918-a4af-f92dc7b5ae7b",
   "metadata": {},
   "outputs": [
    {
     "name": "stdout",
     "output_type": "stream",
     "text": [
      "[4 3 6 8 8]\n"
     ]
    }
   ],
   "source": [
    "Array1D = np.random.randint(1, 11, size=5)\n",
    "print(Array1D)"
   ]
  },
  {
   "cell_type": "markdown",
   "id": "102ad1c2-4d50-4d83-af99-6939902a1eba",
   "metadata": {},
   "source": [
    "## 2. Hitung jumlah, rata-rata, nilai minimum, dan nilai maksimum dari array yang telah dibuat."
   ]
  },
  {
   "cell_type": "code",
   "execution_count": 89,
   "id": "d4e190f8-6811-4cf7-99b5-e86d6583086d",
   "metadata": {},
   "outputs": [
    {
     "name": "stdout",
     "output_type": "stream",
     "text": [
      "Nilai Max: 8\n",
      "Nilai Min: 3\n",
      "Nilai Mean: 5.8\n",
      "Nilai Sum: 29\n"
     ]
    }
   ],
   "source": [
    "Array1DMax = max(Array1D) #Nilai Maksimum\n",
    "Array1DMin = min(Array1D) #Nilai Minimum\n",
    "Array1DMean = sum(Array1D)/len(Array1D) #Nilai Rata-Rata\n",
    "Array1DSum = sum(Array1D) #Total jumlah nilai\n",
    "\n",
    "print(f\"Nilai Max: {Array1DMax}\") \n",
    "print(f\"Nilai Min: {Array1DMin}\")\n",
    "print(f\"Nilai Mean: {Array1DMean}\")\n",
    "print(f\"Nilai Sum: {Array1DSum}\")"
   ]
  },
  {
   "cell_type": "markdown",
   "id": "d291c71c-0862-4a4f-883a-0767ff6fbf17",
   "metadata": {},
   "source": [
    "## 3. Buatlah dua buah array NumPy 2D dengan ukuran 3x3 yang berisi bilangan bulat acak."
   ]
  },
  {
   "cell_type": "code",
   "execution_count": 97,
   "id": "9073721b-c5be-40ea-9553-095fcc4b10eb",
   "metadata": {},
   "outputs": [
    {
     "name": "stdout",
     "output_type": "stream",
     "text": [
      "Array A: \n",
      "[[5 9 7]\n",
      " [4 2 9]\n",
      " [4 4 3]]\n",
      "Array B: \n",
      "[[10  8  1]\n",
      " [10  2  9]\n",
      " [ 5  5  2]]\n"
     ]
    }
   ],
   "source": [
    "Array2D_A = np.random.randint(1, 11, size=(3,3))\n",
    "print(\"Array A: \")\n",
    "print(Array2D_A)\n",
    "Array2D_B = np.random.randint(1, 11, size=(3,3))\n",
    "print(\"Array B: \")\n",
    "print(Array2D_B)"
   ]
  },
  {
   "cell_type": "markdown",
   "id": "5bad639b-3f68-4fdd-a59e-295de7d1f4d9",
   "metadata": {},
   "source": [
    "## 4. Lakukan penjumlahan, pengurangan, perkalian, dan pembagian antara kedua array tersebut."
   ]
  },
  {
   "cell_type": "code",
   "execution_count": 125,
   "id": "47f74efb-c5c0-4ed2-8821-06c16a992578",
   "metadata": {},
   "outputs": [
    {
     "name": "stdout",
     "output_type": "stream",
     "text": [
      "Nilai Sum: \n",
      "[72 62 59]\n"
     ]
    }
   ],
   "source": [
    "Array2D_Asum = sum(Array2D_A) #Sum array A\n",
    "Array2D_Bsum = sum(Array2D_B) #Sum array B\n",
    "Array2D_ABsum = sum(Array2D_Asum,Array2D_Bsum) #Sum Array A+B\n",
    "print(f\"Nilai Sum: \\n{Array2D_ABsum}\") #print"
   ]
  },
  {
   "cell_type": "code",
   "execution_count": 127,
   "id": "4dc52dc3-df96-4839-a654-80624e5269dd",
   "metadata": {},
   "outputs": [
    {
     "name": "stdout",
     "output_type": "stream",
     "text": [
      "Nilai max: 9\n",
      "Nilai max: 10\n"
     ]
    }
   ],
   "source": [
    "Array2D_Amax = np.max(Array2D_A) #max array A\n",
    "Array2D_Bmax = np.max(Array2D_B) #max array B\n",
    "print(f\"Nilai max: {Array2D_Amax}\") #print A\n",
    "print(f\"Nilai max: {Array2D_Bmax}\") #print B"
   ]
  },
  {
   "cell_type": "code",
   "execution_count": 129,
   "id": "becf4e66-7093-4b58-8b20-c348f125670e",
   "metadata": {},
   "outputs": [
    {
     "name": "stdout",
     "output_type": "stream",
     "text": [
      "Nilai min: 2\n",
      "Nilai min: 1\n"
     ]
    }
   ],
   "source": [
    "Array2D_Amin = np.min(Array2D_A) #min array A\n",
    "Array2D_Bmin = np.min(Array2D_B) #min array B\n",
    "print(f\"Nilai min: {Array2D_Amin}\") #print A\n",
    "print(f\"Nilai min: {Array2D_Bmin}\") #print B"
   ]
  },
  {
   "cell_type": "code",
   "execution_count": 143,
   "id": "136a393d-b01d-45f4-a3fd-4b7e56b93114",
   "metadata": {},
   "outputs": [
    {
     "name": "stdout",
     "output_type": "stream",
     "text": [
      "Perkalian: \n",
      "[[50 72  7]\n",
      " [40  4 81]\n",
      " [20 20  6]]\n",
      "Pembagian: \n",
      "[[0.5   1.125 7.   ]\n",
      " [0.4   1.    1.   ]\n",
      " [0.8   0.8   1.5  ]]\n"
     ]
    }
   ],
   "source": [
    "Array2D_Multiple = Array2D_A*Array2D_B #Perkalian\n",
    "print(f\"Perkalian: \\n{Array2D_Multiple}\") #Perkalian\n",
    "Array2D_Division = Array2D_A/Array2D_B #Pembagian\n",
    "print(f\"Pembagian: \\n{Array2D_Division}\") #Pembagian"
   ]
  },
  {
   "cell_type": "markdown",
   "id": "cabad3c6-798a-4628-b133-887f11568e4e",
   "metadata": {},
   "source": [
    "## 5. Hitung determinan dari salah satu array tersebut.\t"
   ]
  },
  {
   "cell_type": "code",
   "execution_count": 149,
   "id": "3de1ecad-da90-4ae1-9f7f-a9d10ac140af",
   "metadata": {},
   "outputs": [
    {
     "name": "stdout",
     "output_type": "stream",
     "text": [
      "[[5 9 7]\n",
      " [4 2 9]\n",
      " [4 4 3]]\n",
      "Determinan Array 2D-A adalah 121.99999999999991\n"
     ]
    }
   ],
   "source": [
    "print(f\"{Array2D_A}\")\n",
    "determinan = np.linalg.det(Array2D_A)\n",
    "print(f\"Determinan Array 2D-A adalah {determinan}\")"
   ]
  },
  {
   "cell_type": "markdown",
   "id": "67b6a029-fbdc-4d29-b366-a9bf7465cd20",
   "metadata": {},
   "source": [
    "## 6. Buatlah array NumPy 1D dengan 10 elemen bilangan bulat dari 1 hingga 10."
   ]
  },
  {
   "cell_type": "code",
   "execution_count": 165,
   "id": "b567be55-7e80-4121-9b64-39a3dc6e06d8",
   "metadata": {},
   "outputs": [
    {
     "name": "stdout",
     "output_type": "stream",
     "text": [
      "[ 1  2  3  4  5  6  7  8  9 10]\n"
     ]
    }
   ],
   "source": [
    "arraybulat = np.round(array).astype(int) #astype(int) agar bilangannya bulat\n",
    "print(arraybulat)"
   ]
  },
  {
   "cell_type": "markdown",
   "id": "59c2db10-274e-43da-b5a6-7be2d0411e8c",
   "metadata": {},
   "source": [
    "## 7. Tampilkan elemen dengan indeks genap.\t"
   ]
  },
  {
   "cell_type": "code",
   "execution_count": 173,
   "id": "78f5b46d-0e8d-438d-aa05-6380563a5e8c",
   "metadata": {},
   "outputs": [
    {
     "name": "stdout",
     "output_type": "stream",
     "text": [
      "Array bulat di no 6: [ 1  2  3  4  5  6  7  8  9 10]\n",
      "Index genap: (array([1, 3, 5, 7, 9], dtype=int64),)\n"
     ]
    }
   ],
   "source": [
    "print(\"Array bulat di no 6:\", arraybulat)\n",
    "\n",
    "# Find the indices of even numbers\n",
    "even_indices = np.where(arraybulat % 2 == 0)\n",
    "\n",
    "print(\"Index genap:\", even_indices)\n"
   ]
  },
  {
   "cell_type": "markdown",
   "id": "76eab328-8077-403d-a9b3-e47735988b5b",
   "metadata": {},
   "source": [
    "## 8. Ambil subset array yang hanya berisi nilai lebih dari 5"
   ]
  },
  {
   "cell_type": "code",
   "execution_count": 177,
   "id": "f196a245-c355-4459-b8d8-1f3788465278",
   "metadata": {},
   "outputs": [
    {
     "name": "stdout",
     "output_type": "stream",
     "text": [
      "Array bulat di no 6: [ 1  2  3  4  5  6  7  8  9 10]\n",
      "Array nilai di atas 5: [ 6  7  8  9 10]\n"
     ]
    }
   ],
   "source": [
    "print(\"Array bulat di no 6:\", arraybulat)\n",
    "\n",
    "arrayafter5 = arraybulat[arraybulat > 5]\n",
    "\n",
    "print(\"Array nilai di atas 5:\", arrayafter5)"
   ]
  },
  {
   "cell_type": "markdown",
   "id": "e3d9fc73-e216-4375-874e-b9e9053d00a9",
   "metadata": {},
   "source": [
    "## 9. Buatlah array NumPy 2D berukuran 4x4 dengan bilangan bulat acak."
   ]
  },
  {
   "cell_type": "code",
   "execution_count": 179,
   "id": "544bb59c-28d5-4313-b7fa-bd04cd6733c5",
   "metadata": {},
   "outputs": [
    {
     "name": "stdout",
     "output_type": "stream",
     "text": [
      "Array 4x4: \n",
      "[[8 5 9 7]\n",
      " [3 3 7 3]\n",
      " [3 5 8 2]\n",
      " [6 4 4 8]]\n"
     ]
    }
   ],
   "source": [
    "Array2D_C = np.random.randint(1, 11, size=(4,4))\n",
    "print(\"Array 4x4: \")\n",
    "print(Array2D_C)"
   ]
  },
  {
   "cell_type": "markdown",
   "id": "1379f88b-95e5-4bfc-953f-e6c2ca09c133",
   "metadata": {},
   "source": [
    "## 10. Hitung nilai rata-rata, standar deviasi, median, dan korelasi antar-kolom dari array tersebut."
   ]
  },
  {
   "cell_type": "code",
   "execution_count": 193,
   "id": "e309bb3b-3e81-4945-845a-f7ef78c8f254",
   "metadata": {},
   "outputs": [
    {
     "name": "stdout",
     "output_type": "stream",
     "text": [
      "Array 4x4: \n",
      "[[8 5 9 7]\n",
      " [3 3 7 3]\n",
      " [3 5 8 2]\n",
      " [6 4 4 8]]\n",
      "Rata-rata per kolom: \n",
      "[5.   4.25 7.   5.  ]\n",
      "Standar Deviasi per kolom: \n",
      "[2.12132034 0.8291562  1.87082869 2.54950976]\n",
      "Median per kolom: \n",
      "[4.5 4.5 7.5 5. ]\n",
      "Matriks Korelasi antar-kolom: \n",
      "[[ 1.          0.42640143  0.06299408  0.87827531]\n",
      " [ 0.42640143  1.          0.48349378  0.11826248]\n",
      " [ 0.06299408  0.48349378  1.         -0.41931393]\n",
      " [ 0.87827531  0.11826248 -0.41931393  1.        ]]\n"
     ]
    }
   ],
   "source": [
    " \n",
    "print(f\"Array 4x4: \\n{Array2D_C}\") #Kita pakai array di no 9\n",
    "\n",
    "\n",
    "avg_Array2D_C = np.mean (Array2D_C, axis=0) #nilai rata-rata\n",
    "\n",
    "std_dev_Array2D_C = np.std(Array2D_C, axis=0) #standar deviasi\n",
    "\n",
    "median_Array2D_C = np.median(Array2D_C, axis=0) #median\n",
    "\n",
    "correlation_array = np.corrcoef (Array2D_C, rowvar=False) #korelasi\n",
    "\n",
    "print(f\"Rata-rata per kolom: \\n{avg_Array2D_C}\") #print avg\n",
    "print(f\"Standar Deviasi per kolom: \\n{std_dev_Array2D_C}\") #print deviasi\n",
    "print(f\"Median per kolom: \\n{median_Array2D_C}\") #print median\n",
    "print(f\"Matriks Korelasi antar-kolom: \\n{correlation_array}\") #print korelasi"
   ]
  },
  {
   "cell_type": "markdown",
   "id": "a74d753d-634b-46c8-ab4c-de3c3efc1bfe",
   "metadata": {},
   "source": [
    "## 11. Buatlah array NumPy 1D dengan nilai-nilai dari 0 hingga π dengan interval 0.1."
   ]
  },
  {
   "cell_type": "code",
   "execution_count": 203,
   "id": "a230fd02-795e-49da-af64-73e6da3c8e82",
   "metadata": {},
   "outputs": [
    {
     "name": "stdout",
     "output_type": "stream",
     "text": [
      "[0.1 0.2 0.3 0.4 0.5 0.6 0.7 0.8 0.9 1.  1.1 1.2 1.3 1.4 1.5 1.6 1.7 1.8\n",
      " 1.9 2.  2.1 2.2 2.3 2.4 2.5 2.6 2.7 2.8 2.9 3.  3.1]\n"
     ]
    }
   ],
   "source": [
    "arraypi = np.arange(0.1, np.pi, 0.1) #dimulai dari 0.1, sampai angka pi (3.14), menggunakan interval 0.1\n",
    "\n",
    "print(arraypi)\n",
    "#DISCLAIMER: pi adalah 3.14, bila menggunakan interval 0.1 maka angka terakhir akan menjadi 3.1 karena dibulatkan"
   ]
  },
  {
   "cell_type": "markdown",
   "id": "c9ff86c6-db41-44ac-af9a-f64a370a107e",
   "metadata": {},
   "source": [
    "## 12. Hitung nilai sin, cos, dan tan dari setiap elemen array tersebut."
   ]
  },
  {
   "cell_type": "code",
   "execution_count": 207,
   "id": "38b40a31-4688-402a-9985-4d2918ddcb70",
   "metadata": {},
   "outputs": [
    {
     "name": "stdout",
     "output_type": "stream",
     "text": [
      "Sin values:\n",
      " [0.09983342 0.19866933 0.29552021 0.38941834 0.47942554 0.56464247\n",
      " 0.64421769 0.71735609 0.78332691 0.84147098 0.89120736 0.93203909\n",
      " 0.96355819 0.98544973 0.99749499 0.9995736  0.99166481 0.97384763\n",
      " 0.94630009 0.90929743 0.86320937 0.8084964  0.74570521 0.67546318\n",
      " 0.59847214 0.51550137 0.42737988 0.33498815 0.23924933 0.14112001\n",
      " 0.04158066]\n",
      "Cos values:\n",
      " [ 0.99500417  0.98006658  0.95533649  0.92106099  0.87758256  0.82533561\n",
      "  0.76484219  0.69670671  0.62160997  0.54030231  0.45359612  0.36235775\n",
      "  0.26749883  0.16996714  0.0707372  -0.02919952 -0.12884449 -0.22720209\n",
      " -0.32328957 -0.41614684 -0.5048461  -0.58850112 -0.66627602 -0.73739372\n",
      " -0.80114362 -0.85688875 -0.90407214 -0.94222234 -0.97095817 -0.9899925\n",
      " -0.99913515]\n",
      "Tan values:\n",
      " [  0.10033467   0.20271004   0.30933625   0.42279322   0.54630249\n",
      "   0.68413681   0.84228838   1.02963856   1.26015822   1.55740772\n",
      "   1.96475966   2.57215162   3.60210245   5.79788372  14.10141995\n",
      " -34.23253274  -7.69660214  -4.28626167  -2.92709751  -2.18503986\n",
      "  -1.70984654  -1.37382306  -1.11921364  -0.91601429  -0.7470223\n",
      "  -0.60159661  -0.47272763  -0.35552983  -0.24640539  -0.14254654\n",
      "  -0.04161665]\n"
     ]
    }
   ],
   "source": [
    "#np sudah menyediakan syntax utk menghitung sin, cos, dan tan\n",
    "sin_values = np.sin(arraypi)\n",
    "cos_values = np.cos(arraypi)\n",
    "tan_values = np.tan(arraypi)\n",
    "\n",
    "#Setelah dihitung tinggal di print\n",
    "print(\"Sin values:\\n\", sin_values)\n",
    "print(\"Cos values:\\n\", cos_values)\n",
    "print(\"Tan values:\\n\", tan_values)"
   ]
  },
  {
   "cell_type": "markdown",
   "id": "b6b5fafb-f452-4335-a693-dbb6a423e23a",
   "metadata": {},
   "source": [
    "## 13. Tampilkan nilai maksimum dan minimum dari hasil perhitungan sin."
   ]
  },
  {
   "cell_type": "code",
   "execution_count": 209,
   "id": "9e5b6860-8c46-4984-a0f0-3fad504d9095",
   "metadata": {},
   "outputs": [
    {
     "name": "stdout",
     "output_type": "stream",
     "text": [
      "Sin values max: 0.9995736030415051\n",
      "Sin values min: 0.04158066243329049\n"
     ]
    }
   ],
   "source": [
    "sin_max = np.max(sin_values) #menghitung maks\n",
    "sin_min = np.min(sin_values) #menghitung min\n",
    "\n",
    "#Print hasil\n",
    "print(\"Sin values max:\", sin_max)\n",
    "print(\"Sin values min:\", sin_min)"
   ]
  }
 ],
 "metadata": {
  "kernelspec": {
   "display_name": "Python 3 (ipykernel)",
   "language": "python",
   "name": "python3"
  },
  "language_info": {
   "codemirror_mode": {
    "name": "ipython",
    "version": 3
   },
   "file_extension": ".py",
   "mimetype": "text/x-python",
   "name": "python",
   "nbconvert_exporter": "python",
   "pygments_lexer": "ipython3",
   "version": "3.11.9"
  }
 },
 "nbformat": 4,
 "nbformat_minor": 5
}
