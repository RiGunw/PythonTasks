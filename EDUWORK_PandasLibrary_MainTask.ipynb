{
 "cells": [
  {
   "cell_type": "markdown",
   "id": "67b4203a-6d6b-43ed-a29e-08ff9d7b6224",
   "metadata": {
    "jp-MarkdownHeadingCollapsed": true
   },
   "source": [
    "# (1 & 2) Importing and Preparations"
   ]
  },
  {
   "cell_type": "code",
   "execution_count": null,
   "id": "fda9d5f5-9019-4e92-97fe-661193fa2f71",
   "metadata": {},
   "outputs": [],
   "source": [
    "#DISCLAIMER: Tidak ada data yang disediakan jadi kita akan membuat data randomized dengan Numphy"
   ]
  },
  {
   "cell_type": "code",
   "execution_count": 197,
   "id": "5a92a466-eaa0-47ca-81eb-be09b115db00",
   "metadata": {},
   "outputs": [],
   "source": [
    "import pandas as pd\n",
    "import seaborn as sns\n",
    "import numpy as np\n",
    "import random\n",
    "import os"
   ]
  },
  {
   "cell_type": "code",
   "execution_count": 141,
   "id": "79d19fb4-0f75-456b-b0f4-dd469ca494e8",
   "metadata": {},
   "outputs": [
    {
     "name": "stdout",
     "output_type": "stream",
     "text": [
      "Empty DataFrame\n",
      "Columns: [Name, Age, City]\n",
      "Index: []\n"
     ]
    }
   ],
   "source": [
    "import pandas as pd\n",
    "\n",
    "# Membuat DataFrame kosong menggunakan Pandas dengan kolom Name, Age, City\n",
    "data = pd.DataFrame(columns=['Name', 'Age', 'City'])\n",
    "\n",
    "# Tentukan jumlah baris\n",
    "n_rows = 20\n",
    "\n",
    "# Display DataFrame utk bukti sudah terbuat\n",
    "print(data)"
   ]
  },
  {
   "cell_type": "markdown",
   "id": "d180d9bb-7ed5-48f8-920a-1ad6989ed8b7",
   "metadata": {
    "jp-MarkdownHeadingCollapsed": true
   },
   "source": [
    "# Creating Randomized Datas (Using Numphy and Random)"
   ]
  },
  {
   "cell_type": "code",
   "execution_count": 144,
   "id": "13aece96-7958-44a4-8890-38d3752d02b8",
   "metadata": {},
   "outputs": [
    {
     "name": "stdout",
     "output_type": "stream",
     "text": [
      "       Name  Age      City\n",
      "0       Umi   37  Surabaya\n",
      "1      Sari   28  Surabaya\n",
      "2       Eko   38     Jambi\n",
      "3     Cahya   27     Jambi\n",
      "4     Jefri   36     Jambi\n",
      "5      Budi   16  Denpasar\n",
      "6      Gita   37   Jakarta\n",
      "7      Budi   24   Jakarta\n",
      "8     Nanda   16     Jambi\n",
      "9     Rizky   36   Jakarta\n",
      "10   Lukman   27    Manado\n",
      "11     Mira   37  Denpasar\n",
      "12     Budi   16     Jambi\n",
      "13  Kartika   27   Jakarta\n",
      "14   Zainal   17  Surabaya\n",
      "15     Hadi   38  Surabaya\n",
      "16    Hasan   20   Jakarta\n",
      "17     Dewi   33   Jakarta\n",
      "18   Lukman   33    Manado\n",
      "19     Vina   20  Denpasar\n"
     ]
    }
   ],
   "source": [
    "# Menggunakan List kita beri list nama yg akan dirandomize\n",
    "names = [\n",
    "    'Andi', 'Budi', 'Citra', 'Dewi', 'Eko', 'Fitri', 'Gilang', 'Hadi',\n",
    "    'Indra', 'Joko', 'Kartika', 'Lina', 'Mira', 'Nina', 'Oka', 'Putri',\n",
    "    'Rizky', 'Sari', 'Taufik', 'Umi', 'Vina', 'Wawan', 'Xaverius', 'Yuni',\n",
    "    'Zainal', 'Bagus', 'Cahya', 'Dian', 'Evi', 'Farhan', 'Gita', 'Hasan',\n",
    "    'Irma', 'Jefri', 'Kartini', 'Lukman', 'Maya', 'Nanda', 'Oni', 'Rina'\n",
    "]\n",
    "cities = [\n",
    "    'Jakarta', 'Denpasar', 'Surabaya', 'Bandung', 'Manado', 'Jambi'\n",
    "]\n",
    "\n",
    "# Generate baris secara random menggunakan list yang sudah dibuat (utk Ages tidak perlu list karena bisa tentukan minimal maximal angka)\n",
    "random_names = np.random.choice(names, n_rows)\n",
    "random_ages = np.random.randint(15, 40, n_rows)\n",
    "random_cities = np.random.choice(cities, n_rows)\n",
    "\n",
    "# sekarang kita masukkan ke Dataframe array di atas yang sudah digenerate random data nya\n",
    "data = pd.DataFrame({\n",
    "    'Name': random_names,\n",
    "    'Age': random_ages,\n",
    "    'City': random_cities\n",
    "})\n",
    "\n",
    "# Display Dataframe\n",
    "print(data)"
   ]
  },
  {
   "cell_type": "markdown",
   "id": "6b8fae66-7820-4784-9509-5f9dd8719145",
   "metadata": {
    "jp-MarkdownHeadingCollapsed": true
   },
   "source": [
    "# (3) Gunakan metode Pandas yang tepat untuk menampilkan lima baris pertama dari DataFrame \"data\""
   ]
  },
  {
   "cell_type": "code",
   "execution_count": 147,
   "id": "fce7c904-d2d6-49da-b3ee-89d235281576",
   "metadata": {},
   "outputs": [
    {
     "name": "stdout",
     "output_type": "stream",
     "text": [
      "    Name  Age      City\n",
      "0    Umi   37  Surabaya\n",
      "1   Sari   28  Surabaya\n",
      "2    Eko   38     Jambi\n",
      "3  Cahya   27     Jambi\n",
      "4  Jefri   36     Jambi\n"
     ]
    }
   ],
   "source": [
    "print(data.head(5)) # head(5) berarti menunjukkan first 5 rows"
   ]
  },
  {
   "cell_type": "markdown",
   "id": "e45dbafc-4ea9-4f91-b84f-08ebdc42128f",
   "metadata": {
    "jp-MarkdownHeadingCollapsed": true
   },
   "source": [
    "# (4) Tambahkan kolom baru “Gender”, “Alamat”, dan “Pekerjaan” ke DataFrame \"data\" dan menampilkan DataFrame yang telah diubah."
   ]
  },
  {
   "cell_type": "code",
   "execution_count": 150,
   "id": "0da85a1c-8087-4d5a-a4ae-51bb75e51545",
   "metadata": {},
   "outputs": [
    {
     "name": "stdout",
     "output_type": "stream",
     "text": [
      "       Name  Age      City Gender Alamat Pekerjaan\n",
      "0       Umi   37  Surabaya   None   None      None\n",
      "1      Sari   28  Surabaya   None   None      None\n",
      "2       Eko   38     Jambi   None   None      None\n",
      "3     Cahya   27     Jambi   None   None      None\n",
      "4     Jefri   36     Jambi   None   None      None\n",
      "5      Budi   16  Denpasar   None   None      None\n",
      "6      Gita   37   Jakarta   None   None      None\n",
      "7      Budi   24   Jakarta   None   None      None\n",
      "8     Nanda   16     Jambi   None   None      None\n",
      "9     Rizky   36   Jakarta   None   None      None\n",
      "10   Lukman   27    Manado   None   None      None\n",
      "11     Mira   37  Denpasar   None   None      None\n",
      "12     Budi   16     Jambi   None   None      None\n",
      "13  Kartika   27   Jakarta   None   None      None\n",
      "14   Zainal   17  Surabaya   None   None      None\n",
      "15     Hadi   38  Surabaya   None   None      None\n",
      "16    Hasan   20   Jakarta   None   None      None\n",
      "17     Dewi   33   Jakarta   None   None      None\n",
      "18   Lukman   33    Manado   None   None      None\n",
      "19     Vina   20  Denpasar   None   None      None\n"
     ]
    }
   ],
   "source": [
    "#Beri kolom baru dengan default data 'none'\n",
    "data['Gender'] = None\n",
    "data['Alamat'] = None\n",
    "data['Pekerjaan'] = None\n",
    "\n",
    "# Display DataFrame utk bukti sudah terbuat\n",
    "print(data)"
   ]
  },
  {
   "cell_type": "markdown",
   "id": "e0da3231-f2d0-4c2d-9e81-36cda9062677",
   "metadata": {
    "jp-MarkdownHeadingCollapsed": true
   },
   "source": [
    "# Creating Randomized Datas (Using Numphy and Random) for Gender, Alamat, Pekerjaan"
   ]
  },
  {
   "cell_type": "code",
   "execution_count": 165,
   "id": "e61f64f5-b373-4175-9b9a-1ea17fcb62aa",
   "metadata": {},
   "outputs": [
    {
     "name": "stdout",
     "output_type": "stream",
     "text": [
      "       Name  Age      City     Gender       Alamat         Pekerjaan\n",
      "0       Umi   37  Surabaya  Perempuan   Jl. Raya 5  Business Analyst\n",
      "1      Sari   28  Surabaya  Perempuan   Jl. Raya 3           Akuntan\n",
      "2       Eko   38     Jambi  Laki-Laki   Jl. Raya 1               PNS\n",
      "3     Cahya   27     Jambi  Laki-Laki   Jl. Raya 6            Dokter\n",
      "4     Jefri   36     Jambi  Laki-Laki   Jl. Raya 2           Nelayan\n",
      "5      Budi   16  Denpasar  Laki-Laki   Jl. Raya 3           Nelayan\n",
      "6      Gita   37   Jakarta  Perempuan   Jl. Raya 9          Diplomat\n",
      "7      Budi   24   Jakarta  Laki-Laki   Jl. Raya 5              Guru\n",
      "8     Nanda   16     Jambi  Perempuan   Jl. Raya 7        Influencer\n",
      "9     Rizky   36   Jakarta  Laki-Laki  Jl. Raya 10            Petani\n",
      "10   Lukman   27    Manado  Laki-Laki   Jl. Raya 1            Dokter\n",
      "11     Mira   37  Denpasar  Perempuan   Jl. Raya 2           Nelayan\n",
      "12     Budi   16     Jambi  Laki-Laki   Jl. Raya 7            Polisi\n",
      "13  Kartika   27   Jakarta  Perempuan   Jl. Raya 3          Diplomat\n",
      "14   Zainal   17  Surabaya  Laki-Laki   Jl. Raya 1    Business Owner\n",
      "15     Hadi   38  Surabaya  Laki-Laki   Jl. Raya 1            Dokter\n",
      "16    Hasan   20   Jakarta  Laki-Laki   Jl. Raya 7    Business Owner\n",
      "17     Dewi   33   Jakarta  Perempuan   Jl. Raya 1    Business Owner\n",
      "18   Lukman   33    Manado  Laki-Laki   Jl. Raya 2           Nelayan\n",
      "19     Vina   20  Denpasar  Perempuan   Jl. Raya 5  Business Analyst\n"
     ]
    }
   ],
   "source": [
    "# Menggunakan List kita beri list nama yg akan dirandomize\n",
    "Gender = [\n",
    "    'Laki-Laki', 'Perempuan'\n",
    "]\n",
    "Alamat = [\n",
    "    'Jl. Raya 1', 'Jl. Raya 2', 'Jl. Raya 3', 'Jl. Raya 4', 'Jl. Raya 5', 'Jl. Raya 6', 'Jl. Raya 7', 'Jl. Raya 8', 'Jl. Raya 9', 'Jl. Raya 10'\n",
    "]\n",
    "Pekerjaan = [\n",
    "    'Guru', 'Polisi', 'PNS', 'Dokter', 'Akuntan', 'Business Analyst', 'Influencer', 'Diplomat', 'Business Owner', 'Nelayan', 'Petani'\n",
    "]\n",
    "\n",
    "# Generate baris secara random menggunakan list yang sudah dibuat\n",
    "random_alamat = np.random.choice(Alamat, n_rows)\n",
    "random_pekerjaan = np.random.choice(Pekerjaan, n_rows)\n",
    "\n",
    "#Generate gender berdasarkan nama\n",
    "def assign_gender(name):\n",
    "    if name in [\n",
    "        'Andi', 'Budi', 'Eko', 'Gilang', 'Hadi', 'Indra', 'Joko', \n",
    "        'Oka', 'Rizky', 'Taufik', 'Wawan', 'Xaverius', 'Zainal', \n",
    "        'Bagus', 'Cahya', 'Farhan', 'Hasan', 'Jefri', 'Lukman', 'Oni', 'Rina'\n",
    "    ]:\n",
    "        return 'Laki-Laki'\n",
    "    else:\n",
    "        return 'Perempuan'\n",
    "\n",
    "# sekarang kita masukkan ke Dataframe array di atas yang sudah digenerate random data nya (kecuali Gender dimana kita sudah set kondisi)\n",
    "data['Gender'] = data['Name'].apply(assign_gender)\n",
    "data['Alamat'] = random_alamat\n",
    "data['Pekerjaan'] = random_pekerjaan\n",
    "\n",
    "# Display Dataframe\n",
    "print(data)"
   ]
  },
  {
   "cell_type": "markdown",
   "id": "67845581-318c-478d-8c7c-efd54cf83209",
   "metadata": {
    "jp-MarkdownHeadingCollapsed": true
   },
   "source": [
    "# (5) Gunakan Pandas untuk menyaring data dari DataFrame \"data\" di mana nilai Usia lebih dari 25, dan tampilkan hasilnya"
   ]
  },
  {
   "cell_type": "code",
   "execution_count": 167,
   "id": "99a69b7f-67ee-4b24-a983-4d289c5bf193",
   "metadata": {},
   "outputs": [
    {
     "name": "stdout",
     "output_type": "stream",
     "text": [
      "       Name  Age      City     Gender       Alamat         Pekerjaan\n",
      "0       Umi   37  Surabaya  Perempuan   Jl. Raya 5  Business Analyst\n",
      "1      Sari   28  Surabaya  Perempuan   Jl. Raya 3           Akuntan\n",
      "2       Eko   38     Jambi  Laki-Laki   Jl. Raya 1               PNS\n",
      "3     Cahya   27     Jambi  Laki-Laki   Jl. Raya 6            Dokter\n",
      "4     Jefri   36     Jambi  Laki-Laki   Jl. Raya 2           Nelayan\n",
      "6      Gita   37   Jakarta  Perempuan   Jl. Raya 9          Diplomat\n",
      "9     Rizky   36   Jakarta  Laki-Laki  Jl. Raya 10            Petani\n",
      "10   Lukman   27    Manado  Laki-Laki   Jl. Raya 1            Dokter\n",
      "11     Mira   37  Denpasar  Perempuan   Jl. Raya 2           Nelayan\n",
      "13  Kartika   27   Jakarta  Perempuan   Jl. Raya 3          Diplomat\n",
      "15     Hadi   38  Surabaya  Laki-Laki   Jl. Raya 1            Dokter\n",
      "17     Dewi   33   Jakarta  Perempuan   Jl. Raya 1    Business Owner\n",
      "18   Lukman   33    Manado  Laki-Laki   Jl. Raya 2           Nelayan\n"
     ]
    }
   ],
   "source": [
    "# kita set kondisi di sini dimana age > 25 lalu kita beri nama dataframe filtered_data\n",
    "filtered_data = data[data['Age'] > 25]\n",
    "\n",
    "# Displaying dataframe nya\n",
    "print(filtered_data)"
   ]
  },
  {
   "cell_type": "markdown",
   "id": "4ba6b030-907c-43ff-9bdc-27afda4f84c4",
   "metadata": {
    "jp-MarkdownHeadingCollapsed": true
   },
   "source": [
    "# (6) Gunakan Pandas untuk menyaring data dari DataFrame \"data\" di mana nilai Usia lebih dari 30, dan Gender “Perempuan” serta tampilkan hasilnya."
   ]
  },
  {
   "cell_type": "code",
   "execution_count": 173,
   "id": "ca432966-f0c1-4e45-bc32-12e413fc2007",
   "metadata": {},
   "outputs": [
    {
     "name": "stdout",
     "output_type": "stream",
     "text": [
      "    Name  Age      City     Gender      Alamat         Pekerjaan\n",
      "0    Umi   37  Surabaya  Perempuan  Jl. Raya 5  Business Analyst\n",
      "6   Gita   37   Jakarta  Perempuan  Jl. Raya 9          Diplomat\n",
      "11  Mira   37  Denpasar  Perempuan  Jl. Raya 2           Nelayan\n",
      "17  Dewi   33   Jakarta  Perempuan  Jl. Raya 1    Business Owner\n"
     ]
    }
   ],
   "source": [
    "# kita set kondisi di sini dimana age > 30 dan Gender == 'Perempuan' lalu kita beri nama dataframe filtered_data\n",
    "filtered_data = data[(data['Age'] > 30) & (data['Gender'] == 'Perempuan')]\n",
    "\n",
    "# Displaying dataframe nya\n",
    "print(filtered_data)"
   ]
  },
  {
   "cell_type": "markdown",
   "id": "07c92180-cbde-4f4f-a35f-6644192a70de",
   "metadata": {
    "jp-MarkdownHeadingCollapsed": true
   },
   "source": [
    "# (7) Tuliskan kode yang menggunakan .loc[] dan .iloc[] untuk mengakses baris ke-3 dan ke-4 beserta kolom yang diminta, lalu tampilkan hasilnya"
   ]
  },
  {
   "cell_type": "code",
   "execution_count": 180,
   "id": "9b959464-4c9c-4d46-8ef4-45f5ef638163",
   "metadata": {},
   "outputs": [
    {
     "name": "stdout",
     "output_type": "stream",
     "text": [
      "    Name  Age   City     Gender      Alamat Pekerjaan\n",
      "3  Cahya   27  Jambi  Laki-Laki  Jl. Raya 6    Dokter\n",
      "4  Jefri   36  Jambi  Laki-Laki  Jl. Raya 2   Nelayan\n"
     ]
    }
   ],
   "source": [
    "# Mengakses rows 3 dan 4 dengan .loc[]\n",
    "rows_loc = data.loc[3:4]\n",
    "\n",
    "# Display\n",
    "print(rows_loc)"
   ]
  },
  {
   "cell_type": "code",
   "execution_count": 182,
   "id": "0c9d5bc3-1ad6-462a-a4b4-c74258a535fd",
   "metadata": {},
   "outputs": [
    {
     "name": "stdout",
     "output_type": "stream",
     "text": [
      "    Name  Age   City     Gender      Alamat Pekerjaan\n",
      "3  Cahya   27  Jambi  Laki-Laki  Jl. Raya 6    Dokter\n",
      "4  Jefri   36  Jambi  Laki-Laki  Jl. Raya 2   Nelayan\n"
     ]
    }
   ],
   "source": [
    "# Mengakses rows 3 dan 4 dengan .iloc[]\n",
    "rows_iloc = data.iloc[3:5]\n",
    "\n",
    "# Display\n",
    "print(rows_iloc)\n"
   ]
  },
  {
   "cell_type": "code",
   "execution_count": 184,
   "id": "73a7a1ea-a01d-4fff-8d29-6013c724f885",
   "metadata": {},
   "outputs": [],
   "source": [
    "# Perbedaannya:\n",
    "# .loc[] itu mencari berdasarkan label, jadi kalau baris ke 3 dan ke 4 ya tulis saja 3:4\n",
    "\n",
    "# .iloc[] itu mencari berdasarkan integer, jadi kalau melalui index kan python dimulai dari 0 sebagai baris pertama, nah end nya harus ditambahkan satu\n",
    "# jadi 3:5"
   ]
  },
  {
   "cell_type": "markdown",
   "id": "8060973a-51c1-44d1-98a2-aa33f4213efb",
   "metadata": {
    "jp-MarkdownHeadingCollapsed": true
   },
   "source": [
    "# (8) Buat program untuk menghitung rata-rata usia dari DataFrame \"data\"."
   ]
  },
  {
   "cell_type": "code",
   "execution_count": 190,
   "id": "54f419f2-60be-497d-8973-c43c38eb3d7a",
   "metadata": {},
   "outputs": [
    {
     "name": "stdout",
     "output_type": "stream",
     "text": [
      "Rata-rata usia pada DataFrame data adalah: 28.15\n"
     ]
    }
   ],
   "source": [
    "average_age = data['Age'].mean()\n",
    "\n",
    "print(f\"Rata-rata usia pada DataFrame data adalah: {average_age}\")"
   ]
  },
  {
   "cell_type": "markdown",
   "id": "f952b04c-acfe-4e67-ae75-c6414fc1a519",
   "metadata": {
    "jp-MarkdownHeadingCollapsed": true
   },
   "source": [
    "# (9) Gunakan Pandas untuk menyimpan DataFrame \"data\" ke dalam format file CSV."
   ]
  },
  {
   "cell_type": "code",
   "execution_count": 201,
   "id": "b57ca713-d542-4b9c-a628-a7104a781f5d",
   "metadata": {},
   "outputs": [
    {
     "name": "stdout",
     "output_type": "stream",
     "text": [
      "DataFrame saved to 'C:\\Users\\horne\\GitHub\\Eduworks\\PythonTasks\\data.csv'\n"
     ]
    }
   ],
   "source": [
    "#Kita convert dataframe 'data' ke file csv\n",
    "file_name = 'data.csv'\n",
    "data.to_csv(file_name, sep=';', index=False)  # Semicolon as delimiter\n",
    "\n",
    "# Get the current working directory\n",
    "current_directory = os.getcwd()\n",
    "\n",
    "# Construct the full file path\n",
    "full_path = os.path.join(current_directory, file_name)\n",
    "\n",
    "#Kita beri notifikasi beserta path tersimpan dimana\n",
    "print(f\"DataFrame saved to '{full_path}'\")"
   ]
  }
 ],
 "metadata": {
  "kernelspec": {
   "display_name": "Python 3 (ipykernel)",
   "language": "python",
   "name": "python3"
  },
  "language_info": {
   "codemirror_mode": {
    "name": "ipython",
    "version": 3
   },
   "file_extension": ".py",
   "mimetype": "text/x-python",
   "name": "python",
   "nbconvert_exporter": "python",
   "pygments_lexer": "ipython3",
   "version": "3.11.9"
  }
 },
 "nbformat": 4,
 "nbformat_minor": 5
}
