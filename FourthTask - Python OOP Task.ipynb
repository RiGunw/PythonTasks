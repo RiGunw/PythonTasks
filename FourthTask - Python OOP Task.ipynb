{
 "cells": [
  {
   "cell_type": "code",
   "execution_count": null,
   "id": "ccc522d1-3ae3-4f63-862d-3b304b159d17",
   "metadata": {},
   "outputs": [],
   "source": [
    "# Bagian 1: Statements (Switch, Exception, Branching, Loops)\n",
    "# Berikan contoh penggunaan switch statement dalam Python dan jelaskan kegunaan serta cara kerjanya.\n",
    "\n",
    "# Buatlah sebuah fungsi yang membaca dua angka dari pengguna dan mengembalikan hasil pembagian. \n",
    "# Tambahkan blok exception untuk menangani situasi di mana pengguna mencoba untuk membagi dengan nol.\n",
    "\n",
    "# Tuliskan program Python untuk menentukan apakah suatu tahun tertentu adalah tahun kabisat atau tidak. \n",
    "# Berikan penjelasan singkat tentang konsep kondisional yang Anda gunakan.\n",
    "\n",
    "# Buatlah program yang menggunakan loop untuk menghitung jumlah bilangan ganjil dari 1 hingga 50.\n",
    "\n",
    "#--------------------------------------------------------------------------------------------------------------------------------------\n",
    "\n",
    "# Bagian 2: Object-Oriented Programming (OOP)\n",
    "# Buatlah dua kelas, Rectangle dan Circle, yang keduanya memiliki metode calculate_area(). \n",
    "# Implementasikan polimorfisme dengan cara memanggil metode calculate_area() pada objek yang berbeda dan tunjukkan hasilnya.\n",
    "\n",
    "# Buatlah tiga kelas: Vehicle, Car, dan Bicycle. Gunakan konsep inheritance sehingga Car dan Bicycle mewarisi sifat dan metode dari Vehicle.\n",
    "\n",
    "# Implementasikan konsep encapsulation dalam sebuah kelas Person. Jadikan beberapa atribut kelas tersebut bersifat privat dan sediakan metode \n",
    "# untuk mengakses dan mengubah nilai atribut-atribut tersebut."
   ]
  },
  {
   "cell_type": "raw",
   "id": "30e9a78e-cfc2-463e-9920-ddd5b6f36709",
   "metadata": {},
   "source": [
    "Bagian 1: Statements (Switch, Exception, Branching, Loops)"
   ]
  },
  {
   "cell_type": "code",
   "execution_count": 92,
   "id": "6191d062-48a7-41ae-9498-b89282b94155",
   "metadata": {},
   "outputs": [
    {
     "name": "stdout",
     "output_type": "stream",
     "text": [
      "You moved forward.\n"
     ]
    }
   ],
   "source": [
    "# Berikan contoh penggunaan switch statement dalam Python dan jelaskan kegunaan serta cara kerjanya.\n",
    "\n",
    "# Contoh kali ini kita ibarat dalam sebuah game menggunakan tombol WASD pada keyboard untuk bergerak.\n",
    "directional_key = 'w' #key yang ditekan user\n",
    "match directional_key:  #disini kita lakukan pengecekan kesamaan key yang ditekan\n",
    "\tcase 'W': #Bila key W yang ditekan\n",
    "\t\tprint(\"You moved forward.\") #Maka user akan maju (pada kasus ini hanya akan diprint text yang mendeskripsikan seperti itu)\n",
    "\tcase 'w': #Bila key w yang ditekan\n",
    "\t\tprint(\"You moved forward.\") #Maka user akan maju (pada kasus ini hanya akan diprint text yang mendeskripsikan seperti itu)\n",
    "\tcase 'A': #Bila key A yang ditekan\n",
    "\t\tprint(\"You moved to the left.\") #Maka user akan bergerak ke kiri (pada kasus ini hanya akan diprint text yang mendeskripsikan seperti itu)\n",
    "\tcase 'a': #Bila key a yang ditekan\n",
    "\t\tprint(\"You moved to the left.\") #Maka user akan bergerak ke kiri (pada kasus ini hanya akan diprint text yang mendeskripsikan seperti itu)\n",
    "\tcase 'S': #Bila key S yang ditekan\n",
    "\t\tprint(\"You moved backward.\") #Maka user akan mundur (pada kasus ini hanya akan diprint text yang mendeskripsikan seperti itu)\n",
    "\tcase 's': #Bila key s yang ditekan\n",
    "\t\tprint(\"You moved backward.\") #Maka user akan mundur (pada kasus ini hanya akan diprint text yang mendeskripsikan seperti itu)\n",
    "\tcase 'D': #Bila key D yang ditekan\n",
    "\t\tprint(\"You moved to the right.\") #Maka user akan bergerak ke kanan (pada kasus ini hanya akan diprint text yang mendeskripsikan seperti itu)\n",
    "\tcase 'd': #Bila key d yang ditekan\n",
    "\t\tprint(\"You moved to the right.\") #Maka user akan bergerak ke kanan (pada kasus ini hanya akan diprint text yang mendeskripsikan seperti itu)        \n",
    "\tcase _: #Di sini underscore ( _ ) berarti bila tidak ada case yang cocok\n",
    "\t\tprint(\"Nothing happened.\") #Dan di sini akan diprint text mendeskripsikan bahwa tidak terjadi apa-apa"
   ]
  },
  {
   "cell_type": "code",
   "execution_count": 110,
   "id": "fe236ca1-99e7-4823-9a00-f513e3ba83dc",
   "metadata": {},
   "outputs": [
    {
     "name": "stdout",
     "output_type": "stream",
     "text": [
      "3.0\n",
      "----------------------------------------------------------------------\n",
      "Illegal operation, 0 on number2 detected\n",
      "None\n"
     ]
    }
   ],
   "source": [
    "# Buatlah sebuah fungsi yang membaca dua angka dari pengguna dan mengembalikan hasil pembagian. \n",
    "# Tambahkan blok exception untuk menangani situasi di mana pengguna mencoba untuk membagi dengan nol.\n",
    "\n",
    "def divide_numbers(number1, number2): #Di sini kita define dulu function pembagian bernama divide_numbers dg user input number1 dan number2\n",
    "    try: #Percobaan pembagian\n",
    "        my_result = number1 / number2\n",
    "        return my_result\n",
    "    except ZeroDivisionError: #ZeroDivisionError itu dipanggil bila Second Argument (number2) pada pembagian adalah 0.\n",
    "        print(f\"Illegal operation, 0 on number2 detected\") #maka akan diprint text error berikut\n",
    "\n",
    "# Uji coba 1\n",
    "my_result = divide_numbers(6, 2)\n",
    "print(my_result) \n",
    "\n",
    "print(\"----------------------------------------------------------------------\") #Ini pembatas saja\n",
    "\n",
    "# Uji coba 2\n",
    "my_result = divide_numbers(5, 0)\n",
    "print(my_result) "
   ]
  },
  {
   "cell_type": "code",
   "execution_count": 122,
   "id": "d9090249-f672-478b-bd8e-bc78b980e240",
   "metadata": {},
   "outputs": [
    {
     "name": "stdin",
     "output_type": "stream",
     "text": [
      " 2000\n"
     ]
    },
    {
     "name": "stdout",
     "output_type": "stream",
     "text": [
      "True\n"
     ]
    }
   ],
   "source": [
    "# Tuliskan program Python untuk menentukan apakah suatu tahun tertentu adalah tahun kabisat atau tidak. \n",
    "# Berikan penjelasan singkat tentang konsep kondisional yang Anda gunakan.\n",
    "#---------------------------------------------------------------------------------------------------------\n",
    "# Info apa itu Tahun Kabisat\n",
    "# An extra day is added to the calendar almost every four years as February 29, and the day is called a leap day. It corrects the calendar for\n",
    "# the fact that our planet takes approximately 365.25 days to orbit the sun. A leap year contains a leap day.\n",
    "\n",
    "# In the Gregorian calendar, three conditions are used to identify leap years:\n",
    "\n",
    "# The year can be evenly divided by 4, is a leap year, unless:\n",
    "# The year can be evenly divided by 100, it is NOT a leap year, unless:\n",
    "# The year is also evenly divisible by 400. Then it is a leap year.\n",
    "# This means that in the Gregorian calendar, the years 2000 and 2400 are leap years, while 1800, 1900, 2100, 2200, 2300 and 2500 are NOT leap years.\n",
    "# Source: https://www.timeanddate.com/date/leapyear.html\n",
    "\n",
    "year = int(input()) #User bisa menginput tahun di sini utk dicek\n",
    "\n",
    "def is_leap(year): #Kita define fungsi mencari tahu apakah tahun hasil user input tahun kabisat (leap year) atau tidak\n",
    "    leap = False #Disini kita define false dulu untuk memulai\n",
    "    if (year % 4) == 0: #Kita pakai conditional dengan modulus\n",
    "        if (year % 100) == 0 and (year % 400) != 0:\n",
    "            leap = False\n",
    "        else:\n",
    "            leap = True\n",
    "    else:\n",
    "        leap = False\n",
    "    return leap #jika sudah selesai kita return nilai leap untuk nanti dipanggil\n",
    "\n",
    "LeapYear = is_leap(year) #Kita pakai variable baru yg memanggil fungsi is_leap\n",
    "print(LeapYear) #Nantinya akan print hasil apakah tahun kabisat TRUE or FALSE setelah user menginput angka year"
   ]
  },
  {
   "cell_type": "code",
   "execution_count": 138,
   "id": "08064a5b-835e-4a14-878d-181071aa6a70",
   "metadata": {},
   "outputs": [
    {
     "name": "stdout",
     "output_type": "stream",
     "text": [
      "Jumlah angka ganjil dari 1 hingga 50: 25\n"
     ]
    }
   ],
   "source": [
    "# Buatlah program yang menggunakan loop untuk menghitung jumlah bilangan ganjil dari 1 hingga 50.\n",
    "\n",
    "#Pertama kita bikin variable kosong dulu untuk counter angka ganjil dan set value nya ke 0\n",
    "count_odd = 0\n",
    "\n",
    "#Kita loop menggunakan for angka 1 sampai 50\n",
    "for num in range(1, 50):\n",
    "    if num % 2 != 0:  #Kita gunakan IF untuk mengecek apakah ini angka ganjil atau tidak (bila modulus 2 bukan 0)\n",
    "        count_odd += 1  #IF true, maka counter ditambah 1\n",
    "\n",
    "# Print the count of odd numbers\n",
    "print(\"Jumlah angka ganjil dari 1 hingga 50:\", count_odd)"
   ]
  },
  {
   "cell_type": "raw",
   "id": "0a2ada85-0674-40f1-b613-3bbced8695a6",
   "metadata": {},
   "source": [
    "Bagian 2: Object-Oriented Programming (OOP)"
   ]
  },
  {
   "cell_type": "code",
   "execution_count": 140,
   "id": "72b8379d-2043-4a55-adb7-daf44bd1fea1",
   "metadata": {},
   "outputs": [],
   "source": [
    "# Buatlah dua kelas, Rectangle dan Circle, yang keduanya memiliki metode calculate_area(). \n",
    "# Implementasikan polimorfisme dengan cara memanggil metode calculate_area() pada objek yang berbeda dan tunjukkan hasilnya.\n",
    "\n",
    "#Kurang mengerti"
   ]
  },
  {
   "cell_type": "code",
   "execution_count": 146,
   "id": "ca86f00a-2430-4ef5-9bbc-74812447edd2",
   "metadata": {},
   "outputs": [],
   "source": [
    "# Buatlah tiga kelas: Vehicle, Car, dan Bicycle. Gunakan konsep inheritance sehingga Car dan Bicycle mewarisi sifat dan metode dari Vehicle.\n",
    "\n",
    "#Apanya yang diwarisi? Sifatnya mau diisi apa?"
   ]
  },
  {
   "cell_type": "code",
   "execution_count": 144,
   "id": "a4642a60-6bb5-4ee8-93aa-636384e3ee40",
   "metadata": {},
   "outputs": [],
   "source": [
    "# Implementasikan konsep encapsulation dalam sebuah kelas Person. Jadikan beberapa atribut kelas tersebut bersifat privat dan sediakan metode \n",
    "# untuk mengakses dan mengubah nilai atribut-atribut tersebut.\n",
    "\n",
    "#Apanya yang mau diprivat?"
   ]
  }
 ],
 "metadata": {
  "kernelspec": {
   "display_name": "Python 3 (ipykernel)",
   "language": "python",
   "name": "python3"
  },
  "language_info": {
   "codemirror_mode": {
    "name": "ipython",
    "version": 3
   },
   "file_extension": ".py",
   "mimetype": "text/x-python",
   "name": "python",
   "nbconvert_exporter": "python",
   "pygments_lexer": "ipython3",
   "version": "3.11.7"
  }
 },
 "nbformat": 4,
 "nbformat_minor": 5
}
