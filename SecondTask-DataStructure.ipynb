{
 "cells": [
  {
   "cell_type": "code",
   "execution_count": 2,
   "id": "aaa06154-da60-4596-99f9-60c80509773f",
   "metadata": {},
   "outputs": [],
   "source": [
    "number : int = 12"
   ]
  },
  {
   "cell_type": "code",
   "execution_count": 4,
   "id": "58eb1898-e4a0-4535-8efb-6f7193ac6209",
   "metadata": {},
   "outputs": [],
   "source": [
    "number_2 : float = 30.5"
   ]
  },
  {
   "cell_type": "code",
   "execution_count": 6,
   "id": "18b9b934-594d-45f0-8983-973b8a9814ba",
   "metadata": {},
   "outputs": [],
   "source": [
    "boolean_var = True"
   ]
  },
  {
   "cell_type": "code",
   "execution_count": 8,
   "id": "f817bab9-7e1b-41ca-9af7-f54195d55729",
   "metadata": {},
   "outputs": [],
   "source": [
    "string_var = \"My String\""
   ]
  },
  {
   "cell_type": "code",
   "execution_count": 23,
   "id": "947fae01-a851-4870-88c2-9d0894042110",
   "metadata": {},
   "outputs": [],
   "source": [
    "my_list = (1,2,3,4,5, 'string', [1,2,4],100)\n",
    "my_map = {\n",
    "    \"key_1\": 1,\n",
    "    \"key_2\": 2\n",
    "}\n",
    "my_map2 = {\n",
    "    \"key_3\": 3,\n",
    "    \"key_4\": 4\n",
    "}"
   ]
  },
  {
   "cell_type": "code",
   "execution_count": 26,
   "id": "0f5fd63c-4686-47e8-a790-ec0cd782faea",
   "metadata": {},
   "outputs": [
    {
     "name": "stdout",
     "output_type": "stream",
     "text": [
      "{'key_1': 1, 'key_2': 2}\n"
     ]
    }
   ],
   "source": [
    "if __name__ == '__main__':\n",
    "    # print(number + number_2)\n",
    "    # print(number + boolean_var)\n",
    "    # print(number + string_var) < This won't work of course\n",
    "    print(my_map)"
   ]
  },
  {
   "cell_type": "code",
   "execution_count": 32,
   "id": "c4ead063-17e0-407d-8062-bb15b9572fd2",
   "metadata": {},
   "outputs": [
    {
     "name": "stdout",
     "output_type": "stream",
     "text": [
      "{'key_1': 1, 'key_2': 2, 'key_3': 3, 'key_4': 4}\n"
     ]
    }
   ],
   "source": [
    "if __name__ == '__main__':\n",
    "    # print(number + number_2)\n",
    "    # print(number + boolean_var)\n",
    "    # print(number + string_var) < This won't work of course\n",
    "    my_map.update(my_map2)\n",
    "    print(my_map)"
   ]
  }
 ],
 "metadata": {
  "kernelspec": {
   "display_name": "Python 3 (ipykernel)",
   "language": "python",
   "name": "python3"
  },
  "language_info": {
   "codemirror_mode": {
    "name": "ipython",
    "version": 3
   },
   "file_extension": ".py",
   "mimetype": "text/x-python",
   "name": "python",
   "nbconvert_exporter": "python",
   "pygments_lexer": "ipython3",
   "version": "3.11.7"
  }
 },
 "nbformat": 4,
 "nbformat_minor": 5
}
